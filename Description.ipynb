{
 "cells": [
  {
   "cell_type": "markdown",
   "id": "e8ab6a8c",
   "metadata": {},
   "source": [
    "# Load Dataset"
   ]
  },
  {
   "cell_type": "code",
   "execution_count": 1,
   "id": "4632edcc",
   "metadata": {},
   "outputs": [
    {
     "name": "stdout",
     "output_type": "stream",
     "text": [
      "<class 'pandas.core.frame.DataFrame'>\n",
      "RangeIndex: 799 entries, 0 to 798\n",
      "Data columns (total 21 columns):\n",
      " #   Column        Non-Null Count  Dtype \n",
      "---  ------        --------------  ----- \n",
      " 0   Cast 1        799 non-null    object\n",
      " 1   Cast 2        799 non-null    object\n",
      " 2   Cast 3        799 non-null    object\n",
      " 3   Cast 4        799 non-null    object\n",
      " 4   Cast 5        799 non-null    object\n",
      " 5   Cast 6        799 non-null    object\n",
      " 6   Description   799 non-null    object\n",
      " 7   Director 1    799 non-null    object\n",
      " 8   Director 2    799 non-null    object\n",
      " 9   Director 3    799 non-null    object\n",
      " 10  Genre         799 non-null    object\n",
      " 11  Rating        799 non-null    object\n",
      " 12  Release Date  799 non-null    object\n",
      " 13  Runtime       799 non-null    object\n",
      " 14  Studio        799 non-null    object\n",
      " 15  Title         799 non-null    object\n",
      " 16  Writer 1      799 non-null    object\n",
      " 17  Writer 2      799 non-null    object\n",
      " 18  Writer 3      799 non-null    object\n",
      " 19  Writer 4      799 non-null    object\n",
      " 20  Year          799 non-null    int64 \n",
      "dtypes: int64(1), object(20)\n",
      "memory usage: 131.2+ KB\n"
     ]
    }
   ],
   "source": [
    "import pandas as pd\n",
    "\n",
    "# load the dataset\n",
    "df = pd.read_csv('M_metadata_v1.csv')\n",
    "\n",
    "rs = 42\n",
    "\n",
    "df.info()"
   ]
  },
  {
   "cell_type": "code",
   "execution_count": 27,
   "id": "d0fa53fe",
   "metadata": {},
   "outputs": [],
   "source": [
    "import warnings\n",
    "warnings.filterwarnings(\"ignore\")"
   ]
  },
  {
   "cell_type": "code",
   "execution_count": 28,
   "id": "262c4610",
   "metadata": {},
   "outputs": [],
   "source": [
    "import string\n",
    "\n",
    "from nltk.corpus import stopwords as sw\n",
    "from nltk.corpus import wordnet as wn\n",
    "from nltk import wordpunct_tokenize\n",
    "from nltk import WordNetLemmatizer\n",
    "from nltk import sent_tokenize\n",
    "from nltk import pos_tag"
   ]
  },
  {
   "cell_type": "code",
   "execution_count": 44,
   "id": "6458035e",
   "metadata": {},
   "outputs": [],
   "source": [
    "lemmatizer = WordNetLemmatizer()\n",
    "punct = set(string.punctuation)\n",
    "stopwords = set(['2','avp','100','000','3','4','official','film','one','two','three','four']).union(set(sw.words('english')))\n"
   ]
  },
  {
   "cell_type": "code",
   "execution_count": 45,
   "id": "5de1767f",
   "metadata": {},
   "outputs": [],
   "source": [
    "def lemmatize(token, tag):\n",
    "    tag = {\n",
    "        'N': wn.NOUN,\n",
    "        'V': wn.VERB,\n",
    "        'R': wn.ADV,\n",
    "        'J': wn.ADJ\n",
    "    }.get(tag[0], wn.NOUN)\n",
    "\n",
    "    return lemmatizer.lemmatize(token, tag)"
   ]
  },
  {
   "cell_type": "code",
   "execution_count": 46,
   "id": "28d4d049",
   "metadata": {},
   "outputs": [],
   "source": [
    "def cab_tokenizer(document):\n",
    "    # initialize token list\n",
    "    tokens = []\n",
    "    # split the document into sentences\n",
    "    for sent in sent_tokenize(document):\n",
    "        # split the document into tokens and then create part of speech tag for each token\n",
    "        for token, tag in pos_tag(wordpunct_tokenize(sent)):\n",
    "            # preprocess and remove unnecessary characters\n",
    "            token = token.lower()\n",
    "            token = token.strip()\n",
    "            token = token.strip('_')\n",
    "            token = token.strip('*')\n",
    "            \n",
    "            if token in stopwords:\n",
    "                continue\n",
    "            if all(char in punct for char in token):\n",
    "                continue\n",
    "\n",
    "            # Lemmatize the token and add back to the tokens list]\n",
    "\n",
    "            lemma = lemmatize(token, tag)\n",
    "            tokens.append(lemma)\n",
    "    \n",
    "    return tokens"
   ]
  },
  {
   "cell_type": "code",
   "execution_count": 47,
   "id": "36739c07",
   "metadata": {},
   "outputs": [
    {
     "name": "stdout",
     "output_type": "stream",
     "text": [
      "64895\n"
     ]
    }
   ],
   "source": [
    "from sklearn.feature_extraction.text import TfidfVectorizer\n",
    "\n",
    "tfidf_vec = TfidfVectorizer(tokenizer=cab_tokenizer, ngram_range=(1,2))\n",
    "X = tfidf_vec.fit_transform(df['Description'])\n",
    "\n",
    "print(len(tfidf_vec.get_feature_names_out()))"
   ]
  },
  {
   "cell_type": "code",
   "execution_count": 48,
   "id": "2c08839e",
   "metadata": {},
   "outputs": [],
   "source": [
    "from sklearn.cluster import KMeans\n",
    "\n",
    "# K means clustering using the term vector\n",
    "kmeans = KMeans(n_clusters=9, random_state=rs).fit(X)"
   ]
  },
  {
   "cell_type": "code",
   "execution_count": 49,
   "id": "5bf44cd4",
   "metadata": {},
   "outputs": [
    {
     "name": "stdout",
     "output_type": "stream",
     "text": [
      "Top terms for cluster 0: alien, earth, town, planet, life, \n",
      "Top terms for cluster 1: peter, war, soldier, st c, bill, \n",
      "Top terms for cluster 2: life, documentary, sherman, include, footage, \n",
      "Top terms for cluster 3: voice, new, friend, travel, feature, \n",
      "Top terms for cluster 4: star, life, paul, woman, comedy, \n",
      "Top terms for cluster 5: become, game, life, world, kid, \n",
      "Top terms for cluster 6: best, award, academy award, academy, life, \n",
      "Top terms for cluster 7: city, school, year, old, girl, \n",
      "Top terms for cluster 8: christmas, santa, holiday, like, david, \n"
     ]
    }
   ],
   "source": [
    "# function to visualise text cluster. Useful for the assignment too :)\n",
    "def visualise_text_cluster(n_clusters, cluster_centers, terms, num_word = 5):\n",
    "    # -- Params --\n",
    "    # cluster_centers: cluster centers of fitted/trained KMeans/other centroid-based clustering\n",
    "    # terms: terms used for clustering\n",
    "    # num_word: number of terms to show per cluster. Change as you please.\n",
    "    \n",
    "    # find features/terms closest to centroids\n",
    "    ordered_centroids = cluster_centers.argsort()[:, ::-1]\n",
    "    \n",
    "    for cluster in range(n_clusters):\n",
    "        print(\"Top terms for cluster {}:\".format(cluster), end=\" \")\n",
    "        for term_idx in ordered_centroids[cluster, :5]:\n",
    "            print(terms[term_idx], end=', ')\n",
    "        print()\n",
    "        \n",
    "# call it\n",
    "visualise_text_cluster(kmeans.n_clusters, kmeans.cluster_centers_, tfidf_vec.get_feature_names_out())"
   ]
  },
  {
   "cell_type": "code",
   "execution_count": 50,
   "id": "225fa977",
   "metadata": {},
   "outputs": [],
   "source": [
    "import seaborn as sns\n",
    "import matplotlib.pyplot as plt\n",
    "\n",
    "# creating tf-idf terms - a bit slow, do it occasionaly\n",
    "def calculate_tf_idf_terms(document_col):\n",
    "    # Param - document_col: collection of raw document text that you want to analyse\n",
    "    from sklearn.feature_extraction.text import CountVectorizer\n",
    "\n",
    "    # use count vectorizer to find TF and DF of each term\n",
    "    count_vec = CountVectorizer(tokenizer=cab_tokenizer, ngram_range=(1,2))\n",
    "    X_count = count_vec.fit_transform(df['Description'])\n",
    "    \n",
    "    # create list of terms and their tf and df\n",
    "    terms = [{'term': t, 'idx': count_vec.vocabulary_[t],\n",
    "              'tf': X_count[:, count_vec.vocabulary_[t]].sum(),\n",
    "              'df': X_count[:, count_vec.vocabulary_[t]].count_nonzero()}\n",
    "             for t in count_vec.vocabulary_]\n",
    "    \n",
    "    return terms\n",
    "    \n",
    "terms = calculate_tf_idf_terms(df['Description'])"
   ]
  },
  {
   "cell_type": "code",
   "execution_count": 51,
   "id": "1c81075d",
   "metadata": {},
   "outputs": [
    {
     "data": {
      "image/png": "[encoded data removed]",
      "text/plain": [
       "<Figure size 720x720 with 1 Axes>"
      ]
     },
     "metadata": {},
     "output_type": "display_data"
    }
   ],
   "source": [
    "# visualisation of ZIPF law\n",
    "def visualise_zipf(terms, itr_step = 50):\n",
    "    from scipy.spatial.distance import euclidean\n",
    "    from math import sqrt\n",
    "    plt.figure(figsize=(10,10)) \n",
    "    # --- Param ---\n",
    "    # terms: collection of terms dictionary from calculate_tf_idf_terms function\n",
    "    # itr_step: used to control how many terms that you want to plot. Num of terms to plot = N terms / itr_step\n",
    "    \n",
    "    # sort terms by its frequency\n",
    "    terms.sort(key=lambda x: (x['tf'], x['df']), reverse=True)\n",
    "    \n",
    "    # select a few of the terms for plotting purpose\n",
    "    sel_terms = [terms[i] for i in range(0, len(terms), itr_step)]\n",
    "    labels = [term['term'] for term in sel_terms]\n",
    "    \n",
    "    # plot term frequency ranking vs its DF\n",
    "    plt.plot(range(len(sel_terms)), [x['df'] for x in sel_terms])\n",
    "    plt.xlabel('Term frequency ranking')\n",
    "    plt.ylabel('Document frequency')\n",
    "    \n",
    "    max_x = len(sel_terms)\n",
    "    max_y = max([x['df'] for x in sel_terms])\n",
    "    \n",
    "    # annotate the points\n",
    "    prev_x, prev_y = 0, 0\n",
    "    for label, x, y in zip(labels,range(len(sel_terms)), [x['df'] for x in sel_terms]):\n",
    "        # calculate the relative distance between labels to increase visibility\n",
    "        x_dist = (abs(x - prev_x) / float(max_x)) ** 2\n",
    "        y_dist = (abs(y - prev_y) / float(max_y)) ** 2\n",
    "        scaled_dist = sqrt(x_dist + y_dist)\n",
    "        \n",
    "        if (scaled_dist > 0.1):\n",
    "            plt.text(x+2, y+2, label, {'ha': 'left', 'va': 'bottom'}, rotation=30)\n",
    "            prev_x, prev_y = x, y\n",
    "    \n",
    "    plt.show()\n",
    "    \n",
    "visualise_zipf(terms)"
   ]
  },
  {
   "cell_type": "code",
   "execution_count": 52,
   "id": "f3ff0033",
   "metadata": {},
   "outputs": [
    {
     "name": "stdout",
     "output_type": "stream",
     "text": [
      "9759\n"
     ]
    }
   ],
   "source": [
    "\n",
    "filter_vec = TfidfVectorizer(tokenizer=cab_tokenizer, ngram_range=(1,2), min_df=2, max_df=0.7)\n",
    "X_filter = filter_vec.fit_transform(df['Description'])\n",
    "\n",
    "# see the number of unique tokens produced by the vectorizer. Reduced!\n",
    "print(len(filter_vec.get_feature_names_out()))"
   ]
  },
  {
   "cell_type": "code",
   "execution_count": 53,
   "id": "f6cec5fb",
   "metadata": {},
   "outputs": [
    {
     "name": "stdout",
     "output_type": "stream",
     "text": [
      "CPU times: total: 5.83 s\n",
      "Wall time: 508 ms\n"
     ]
    }
   ],
   "source": [
    "%%time\n",
    "# K means clustering using the new term vector, time it for comparison to SVD\n",
    "kmeans_fil = KMeans(n_clusters=20, random_state=rs).fit(X_filter)"
   ]
  },
  {
   "cell_type": "code",
   "execution_count": 54,
   "id": "6ee69e43",
   "metadata": {},
   "outputs": [
    {
     "name": "stdout",
     "output_type": "stream",
     "text": [
      "Top terms for cluster 0: find, family, dead, dinner, guest, \n",
      "Top terms for cluster 1: life, paul, create, artist, story, \n",
      "Top terms for cluster 2: prince, tale, girl, cross, make, \n",
      "Top terms for cluster 3: life, michael, find, family, dog, \n",
      "Top terms for cluster 4: american, war, nation, soldier, offer, \n",
      "Top terms for cluster 5: get, drama, close, basketball, woman, \n",
      "Top terms for cluster 6: kid, school, parent, find, donald, \n",
      "Top terms for cluster 7: robot, science fiction, fiction, science, planet, \n",
      "Top terms for cluster 8: christmas, santa, holiday, child, claus, \n",
      "Top terms for cluster 9: herbie, city, disney, human, adventure, \n",
      "Top terms for cluster 10: documentary, interview, social, form, footage, \n",
      "Top terms for cluster 11: song, war, band, america, c, \n",
      "Top terms for cluster 12: family, day, job, new, tom, \n",
      "Top terms for cluster 13: r, winner, witch, academy award, academy, \n",
      "Top terms for cluster 14: john, father, life, new, time, \n",
      "Top terms for cluster 15: harry, potter, harry potter, school, wizard, \n",
      "Top terms for cluster 16: black, rock, box, mr, boy, \n",
      "Top terms for cluster 17: french, documentary, culture, dolphin, history, \n",
      "Top terms for cluster 18: young, love, best, woman, discover, \n",
      "Top terms for cluster 19: earth, alien, scientist, world, evil, \n"
     ]
    }
   ],
   "source": [
    "visualise_text_cluster(kmeans_fil.n_clusters, kmeans_fil.cluster_centers_, filter_vec.get_feature_names_out())"
   ]
  },
  {
   "cell_type": "code",
   "execution_count": 55,
   "id": "33934de9",
   "metadata": {},
   "outputs": [],
   "source": [
    "from sklearn.decomposition import TruncatedSVD\n",
    "\n",
    "svd = TruncatedSVD(n_components=3000, random_state=42)\n",
    "X_trans = svd.fit_transform(X_filter)"
   ]
  },
  {
   "cell_type": "code",
   "execution_count": 56,
   "id": "94309f36",
   "metadata": {},
   "outputs": [
    {
     "name": "stdout",
     "output_type": "stream",
     "text": [
      "Top terms in component #0 life, love, family, year, new, \n",
      "Top terms in component #1 documentary, c, footage, interview, history, \n",
      "Top terms in component #2 earth, alien, planet, save, adventure, \n",
      "Top terms in component #3 christmas, santa, holiday, best, award, \n",
      "Top terms in component #4 christmas, life, holiday, santa, town, \n",
      "Top terms in component #5 family, boy, story, adventure, school, \n",
      "Top terms in component #6 life, award, academy award, academy, best, \n",
      "Top terms in component #7 love, story, christmas, war, fall, \n",
      "Top terms in component #8 city, voice, prince, harry, disney, \n",
      "Top terms in component #9 harry, best, potter, school, harry potter, \n"
     ]
    }
   ],
   "source": [
    "# sort the components by largest weighted word\n",
    "sorted_comp = svd.components_.argsort()[:, ::-1]\n",
    "terms = filter_vec.get_feature_names_out()\n",
    "\n",
    "# visualise word - concept/component relationships\n",
    "for comp_num in range(10):\n",
    "    print(\"Top terms in component #{}\".format(comp_num), end=\" \")\n",
    "    for i in sorted_comp[comp_num, :5]:\n",
    "        print(terms[i], end=\", \")\n",
    "    print()"
   ]
  },
  {
   "cell_type": "code",
   "execution_count": 57,
   "id": "f267769d",
   "metadata": {},
   "outputs": [
    {
     "name": "stdout",
     "output_type": "stream",
     "text": [
      "CPU times: total: 3.06 s\n",
      "Wall time: 344 ms\n"
     ]
    }
   ],
   "source": [
    "%%time\n",
    "# K-means clustering using LSA-transformed X\n",
    "svd_kmeans = KMeans(n_clusters=20, random_state=rs).fit(X_trans)"
   ]
  },
  {
   "cell_type": "code",
   "execution_count": 58,
   "id": "f6569e3e",
   "metadata": {},
   "outputs": [
    {
     "name": "stdout",
     "output_type": "stream",
     "text": [
      "Top terms for cluster 0: find, family, dead, dinner, guest, \n",
      "Top terms for cluster 1: life, paul, create, artist, story, \n",
      "Top terms for cluster 2: prince, tale, girl, cross, make, \n",
      "Top terms for cluster 3: life, michael, find, family, dog, \n",
      "Top terms for cluster 4: american, war, nation, soldier, offer, \n",
      "Top terms for cluster 5: get, drama, close, basketball, woman, \n",
      "Top terms for cluster 6: kid, school, parent, find, donald, \n",
      "Top terms for cluster 7: robot, science fiction, fiction, science, planet, \n",
      "Top terms for cluster 8: christmas, santa, holiday, child, claus, \n",
      "Top terms for cluster 9: herbie, city, disney, human, adventure, \n",
      "Top terms for cluster 10: documentary, interview, social, form, footage, \n",
      "Top terms for cluster 11: song, war, band, america, c, \n",
      "Top terms for cluster 12: family, day, job, new, tom, \n",
      "Top terms for cluster 13: r, winner, witch, academy award, academy, \n",
      "Top terms for cluster 14: john, father, life, new, time, \n",
      "Top terms for cluster 15: harry, potter, harry potter, school, wizard, \n",
      "Top terms for cluster 16: black, rock, box, mr, boy, \n",
      "Top terms for cluster 17: french, documentary, culture, dolphin, history, \n",
      "Top terms for cluster 18: young, love, best, woman, discover, \n",
      "Top terms for cluster 19: earth, alien, scientist, world, evil, \n"
     ]
    }
   ],
   "source": [
    "# transform cluster centers back to original feature space for visualisation\n",
    "original_space_centroids = svd.inverse_transform(svd_kmeans.cluster_centers_)\n",
    "\n",
    "# visualisation\n",
    "visualise_text_cluster(svd_kmeans.n_clusters, original_space_centroids, filter_vec.get_feature_names_out())"
   ]
  },
  {
   "cell_type": "code",
   "execution_count": 22,
   "id": "438c2413",
   "metadata": {},
   "outputs": [
    {
     "data": {
      "image/png": "[encoded data removed]",
      "text/plain": [
       "<Figure size 576x432 with 1 Axes>"
      ]
     },
     "metadata": {},
     "output_type": "display_data"
    }
   ],
   "source": [
    "inertia = []\n",
    "for k in range(10, 30):\n",
    "    svd_kmeans = KMeans(n_clusters=k, random_state=rs).fit(X_trans)\n",
    "    inertia.append(svd_kmeans.inertia_)\n",
    "\n",
    "plt.figure(figsize=(8, 6))\n",
    "plt.plot(range(10, 30), inertia, marker='o', linestyle='-', color='b')\n",
    "plt.xlabel('Number of clusters (k)')\n",
    "plt.ylabel('Inertia')\n",
    "plt.title('Elbow Method for Optimal k')\n",
    "plt.grid()\n",
    "plt.show()"
   ]
  },
  {
   "cell_type": "code",
   "execution_count": null,
   "id": "9c325428",
   "metadata": {},
   "outputs": [],
   "source": []
  }
 ],
 "metadata": {
  "kernelspec": {
   "display_name": "Python 3 (Spyder)",
   "language": "python3",
   "name": "python3"
  },
  "language_info": {
   "codemirror_mode": {
    "name": "ipython",
    "version": 3
   },
   "file_extension": ".py",
   "mimetype": "text/x-python",
   "name": "python",
   "nbconvert_exporter": "python",
   "pygments_lexer": "ipython3",
   "version": "3.10.9"
  }
 },
 "nbformat": 4,
 "nbformat_minor": 5
}
