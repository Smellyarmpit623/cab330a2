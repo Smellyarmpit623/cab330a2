{
 "cells": [
  {
   "cell_type": "code",
   "execution_count": 1,
   "id": "69c839f1",
   "metadata": {},
   "outputs": [
    {
     "name": "stdout",
     "output_type": "stream",
     "text": [
      "<class 'pandas.core.frame.DataFrame'>\n",
      "RangeIndex: 15789 entries, 0 to 15788\n",
      "Data columns (total 4 columns):\n",
      " #   Column      Non-Null Count  Dtype \n",
      "---  ------      --------------  ----- \n",
      " 0   IP address  15789 non-null  object\n",
      " 1   Timestamp   15789 non-null  object\n",
      " 2   Request     15789 non-null  object\n",
      " 3   Staus       15789 non-null  int64 \n",
      "dtypes: int64(1), object(3)\n",
      "memory usage: 493.5+ KB\n"
     ]
    }
   ],
   "source": [
    "import pandas as pd\n",
    "\n",
    "# load the dataset\n",
    "df = pd.read_csv('Weblog_v1.csv')\n",
    "\n",
    "rs = 42\n",
    "\n",
    "df.info()"
   ]
  },
  {
   "cell_type": "code",
   "execution_count": 2,
   "id": "5e48e3b9",
   "metadata": {},
   "outputs": [
    {
     "data": {
      "text/html": [
       "<div>\n",
       "<style scoped>\n",
       "    .dataframe tbody tr th:only-of-type {\n",
       "        vertical-align: middle;\n",
       "    }\n",
       "\n",
       "    .dataframe tbody tr th {\n",
       "        vertical-align: top;\n",
       "    }\n",
       "\n",
       "    .dataframe thead th {\n",
       "        text-align: right;\n",
       "    }\n",
       "</style>\n",
       "<table border=\"1\" class=\"dataframe\">\n",
       "  <thead>\n",
       "    <tr style=\"text-align: right;\">\n",
       "      <th></th>\n",
       "      <th>IP address</th>\n",
       "      <th>Timestamp</th>\n",
       "      <th>Request</th>\n",
       "      <th>Staus</th>\n",
       "    </tr>\n",
       "  </thead>\n",
       "  <tbody>\n",
       "    <tr>\n",
       "      <th>0</th>\n",
       "      <td>10.128.2.1</td>\n",
       "      <td>[29/Nov/2017:06:58:55</td>\n",
       "      <td>GET /login.php HTTP/1.1</td>\n",
       "      <td>200</td>\n",
       "    </tr>\n",
       "    <tr>\n",
       "      <th>1</th>\n",
       "      <td>10.128.2.1</td>\n",
       "      <td>[29/Nov/2017:06:59:02</td>\n",
       "      <td>POST /process.php HTTP/1.1</td>\n",
       "      <td>302</td>\n",
       "    </tr>\n",
       "    <tr>\n",
       "      <th>2</th>\n",
       "      <td>10.128.2.1</td>\n",
       "      <td>[29/Nov/2017:06:59:03</td>\n",
       "      <td>GET /home.php HTTP/1.1</td>\n",
       "      <td>200</td>\n",
       "    </tr>\n",
       "    <tr>\n",
       "      <th>3</th>\n",
       "      <td>10.131.2.1</td>\n",
       "      <td>[29/Nov/2017:06:59:04</td>\n",
       "      <td>GET /js/vendor/moment.min.js HTTP/1.1</td>\n",
       "      <td>200</td>\n",
       "    </tr>\n",
       "    <tr>\n",
       "      <th>4</th>\n",
       "      <td>10.130.2.1</td>\n",
       "      <td>[29/Nov/2017:06:59:06</td>\n",
       "      <td>GET /bootstrap-3.3.7/js/bootstrap.js HTTP/1.1</td>\n",
       "      <td>200</td>\n",
       "    </tr>\n",
       "  </tbody>\n",
       "</table>\n",
       "</div>"
      ],
      "text/plain": [
       "   IP address  ... Staus\n",
       "0  10.128.2.1  ...   200\n",
       "1  10.128.2.1  ...   302\n",
       "2  10.128.2.1  ...   200\n",
       "3  10.131.2.1  ...   200\n",
       "4  10.130.2.1  ...   200\n",
       "\n",
       "[5 rows x 4 columns]"
      ]
     },
     "execution_count": 2,
     "metadata": {},
     "output_type": "execute_result"
    }
   ],
   "source": [
    "# preview\n",
    "df.head()"
   ]
  },
  {
   "cell_type": "code",
   "execution_count": 2,
   "id": "d5c8e143",
   "metadata": {},
   "outputs": [
    {
     "data": {
      "text/html": [
       "<div>\n",
       "<style scoped>\n",
       "    .dataframe tbody tr th:only-of-type {\n",
       "        vertical-align: middle;\n",
       "    }\n",
       "\n",
       "    .dataframe tbody tr th {\n",
       "        vertical-align: top;\n",
       "    }\n",
       "\n",
       "    .dataframe thead th {\n",
       "        text-align: right;\n",
       "    }\n",
       "</style>\n",
       "<table border=\"1\" class=\"dataframe\">\n",
       "  <thead>\n",
       "    <tr style=\"text-align: right;\">\n",
       "      <th></th>\n",
       "      <th>IP address</th>\n",
       "      <th>Timestamp</th>\n",
       "      <th>Request</th>\n",
       "      <th>Staus</th>\n",
       "      <th>Method</th>\n",
       "      <th>Protocol</th>\n",
       "    </tr>\n",
       "  </thead>\n",
       "  <tbody>\n",
       "    <tr>\n",
       "      <th>0</th>\n",
       "      <td>10.128.2.1</td>\n",
       "      <td>[29/Nov/2017:06:</td>\n",
       "      <td>/login.php</td>\n",
       "      <td>200</td>\n",
       "      <td>GET</td>\n",
       "      <td>HTTP/1.1</td>\n",
       "    </tr>\n",
       "    <tr>\n",
       "      <th>1</th>\n",
       "      <td>10.128.2.1</td>\n",
       "      <td>[29/Nov/2017:06:</td>\n",
       "      <td>/process.php</td>\n",
       "      <td>302</td>\n",
       "      <td>POST</td>\n",
       "      <td>HTTP/1.1</td>\n",
       "    </tr>\n",
       "    <tr>\n",
       "      <th>2</th>\n",
       "      <td>10.128.2.1</td>\n",
       "      <td>[29/Nov/2017:06:</td>\n",
       "      <td>/home.php</td>\n",
       "      <td>200</td>\n",
       "      <td>GET</td>\n",
       "      <td>HTTP/1.1</td>\n",
       "    </tr>\n",
       "    <tr>\n",
       "      <th>3</th>\n",
       "      <td>10.131.2.1</td>\n",
       "      <td>[29/Nov/2017:06:</td>\n",
       "      <td>/js/vendor/moment.min.js</td>\n",
       "      <td>200</td>\n",
       "      <td>GET</td>\n",
       "      <td>HTTP/1.1</td>\n",
       "    </tr>\n",
       "    <tr>\n",
       "      <th>4</th>\n",
       "      <td>10.130.2.1</td>\n",
       "      <td>[29/Nov/2017:06:</td>\n",
       "      <td>/bootstrap-3.3.7/js/bootstrap.js</td>\n",
       "      <td>200</td>\n",
       "      <td>GET</td>\n",
       "      <td>HTTP/1.1</td>\n",
       "    </tr>\n",
       "  </tbody>\n",
       "</table>\n",
       "</div>"
      ],
      "text/plain": [
       "   IP address         Timestamp  ... Method  Protocol\n",
       "0  10.128.2.1  [29/Nov/2017:06:  ...    GET  HTTP/1.1\n",
       "1  10.128.2.1  [29/Nov/2017:06:  ...   POST  HTTP/1.1\n",
       "2  10.128.2.1  [29/Nov/2017:06:  ...    GET  HTTP/1.1\n",
       "3  10.131.2.1  [29/Nov/2017:06:  ...    GET  HTTP/1.1\n",
       "4  10.130.2.1  [29/Nov/2017:06:  ...    GET  HTTP/1.1\n",
       "\n",
       "[5 rows x 6 columns]"
      ]
     },
     "execution_count": 2,
     "metadata": {},
     "output_type": "execute_result"
    }
   ],
   "source": [
    "def extract_method_and_protocol(row):\n",
    "    # function to extract HTTP request method and protocol from a request string\n",
    "    request_splits = row['Request'].split()  # split request string by space\n",
    "    row['Method'] = request_splits[0]\n",
    "    row['Protocol'] = request_splits[-1]\n",
    "    row['Request'] = ' '.join(request_splits[1:-1])  # stitch remaining request string back\n",
    "    if '?' in row['Request']:\n",
    "        row['Request'] =row['Request'][0:row['Request'].index('?')]\n",
    "    row['Timestamp']=row['Timestamp'][0:-5]\n",
    "    return row\n",
    "\n",
    "df = df.apply(extract_method_and_protocol, axis=1)\n",
    "\n",
    "# show the result\n",
    "df.head()"
   ]
  },
  {
   "cell_type": "code",
   "execution_count": 26,
   "id": "59c5530f",
   "metadata": {},
   "outputs": [
    {
     "name": "stdout",
     "output_type": "stream",
     "text": [
      "# Rows before: 15789\n",
      "After images removal 10849\n",
      "After unsuccessful requests removal 7089\n"
     ]
    }
   ],
   "source": [
    "# correct the incorrect dataframe types\n",
    "df['Staus'] = df['Staus'].astype(int)  # set status code to int\n",
    "df['Timestamp'] = pd.to_datetime(df['Timestamp'], format='[%d/%b/%Y:%H:')  # set date time to pandas datatime obj \n",
    "\n",
    "# create a mask to filter all images\n",
    "mask = (df['Request'].str.endswith('.gif') | df['Request'].str.endswith('.jpg') | df['Request'].str.endswith('.jpeg') | df['Request'].str.endswith('.js')| df['Request'].str.endswith('.css')| df['Request'].str.endswith('.woff2'))\n",
    "print(\"# Rows before:\", len(df))\n",
    "\n",
    "# invert the mask, only keep records without .gif, .jpg and .jpeg in the request column\n",
    "df2 = df[~mask]\n",
    "\n",
    "print(\"After images removal\", len(df2))\n",
    "\n",
    "# second mask, remove all unsuccessful requests (code != 200)\n",
    "df2 = df2[df2['Staus'] == 200]\n",
    "print(\"After unsuccessful requests removal\", len(df2))"
   ]
  },
  {
   "cell_type": "code",
   "execution_count": 27,
   "id": "4273749a",
   "metadata": {},
   "outputs": [
    {
     "data": {
      "text/html": [
       "<div>\n",
       "<style scoped>\n",
       "    .dataframe tbody tr th:only-of-type {\n",
       "        vertical-align: middle;\n",
       "    }\n",
       "\n",
       "    .dataframe tbody tr th {\n",
       "        vertical-align: top;\n",
       "    }\n",
       "\n",
       "    .dataframe thead th {\n",
       "        text-align: right;\n",
       "    }\n",
       "</style>\n",
       "<table border=\"1\" class=\"dataframe\">\n",
       "  <thead>\n",
       "    <tr style=\"text-align: right;\">\n",
       "      <th></th>\n",
       "      <th>IP address</th>\n",
       "      <th>Timestamp</th>\n",
       "      <th>Request</th>\n",
       "      <th>Staus</th>\n",
       "      <th>Method</th>\n",
       "      <th>Protocol</th>\n",
       "    </tr>\n",
       "  </thead>\n",
       "  <tbody>\n",
       "    <tr>\n",
       "      <th>0</th>\n",
       "      <td>10.128.2.1</td>\n",
       "      <td>2017-11-29 06:00:00</td>\n",
       "      <td>/login.php</td>\n",
       "      <td>200</td>\n",
       "      <td>GET</td>\n",
       "      <td>HTTP/1.1</td>\n",
       "    </tr>\n",
       "    <tr>\n",
       "      <th>1</th>\n",
       "      <td>10.128.2.1</td>\n",
       "      <td>2017-11-29 06:00:00</td>\n",
       "      <td>/process.php</td>\n",
       "      <td>302</td>\n",
       "      <td>POST</td>\n",
       "      <td>HTTP/1.1</td>\n",
       "    </tr>\n",
       "    <tr>\n",
       "      <th>2</th>\n",
       "      <td>10.128.2.1</td>\n",
       "      <td>2017-11-29 06:00:00</td>\n",
       "      <td>/home.php</td>\n",
       "      <td>200</td>\n",
       "      <td>GET</td>\n",
       "      <td>HTTP/1.1</td>\n",
       "    </tr>\n",
       "    <tr>\n",
       "      <th>3</th>\n",
       "      <td>10.131.2.1</td>\n",
       "      <td>2017-11-29 06:00:00</td>\n",
       "      <td>/js/vendor/moment.min.js</td>\n",
       "      <td>200</td>\n",
       "      <td>GET</td>\n",
       "      <td>HTTP/1.1</td>\n",
       "    </tr>\n",
       "    <tr>\n",
       "      <th>4</th>\n",
       "      <td>10.130.2.1</td>\n",
       "      <td>2017-11-29 06:00:00</td>\n",
       "      <td>/bootstrap-3.3.7/js/bootstrap.js</td>\n",
       "      <td>200</td>\n",
       "      <td>GET</td>\n",
       "      <td>HTTP/1.1</td>\n",
       "    </tr>\n",
       "  </tbody>\n",
       "</table>\n",
       "</div>"
      ],
      "text/plain": [
       "   IP address           Timestamp  ... Method  Protocol\n",
       "0  10.128.2.1 2017-11-29 06:00:00  ...    GET  HTTP/1.1\n",
       "1  10.128.2.1 2017-11-29 06:00:00  ...   POST  HTTP/1.1\n",
       "2  10.128.2.1 2017-11-29 06:00:00  ...    GET  HTTP/1.1\n",
       "3  10.131.2.1 2017-11-29 06:00:00  ...    GET  HTTP/1.1\n",
       "4  10.130.2.1 2017-11-29 06:00:00  ...    GET  HTTP/1.1\n",
       "\n",
       "[5 rows x 6 columns]"
      ]
     },
     "execution_count": 27,
     "metadata": {},
     "output_type": "execute_result"
    }
   ],
   "source": [
    "df.head()"
   ]
  },
  {
   "cell_type": "code",
   "execution_count": 28,
   "id": "0537b02a",
   "metadata": {},
   "outputs": [
    {
     "data": {
      "text/plain": [
       "<Axes: xlabel='Method', ylabel='count'>"
      ]
     },
     "execution_count": 28,
     "metadata": {},
     "output_type": "execute_result"
    },
    {
     "data": {
      "image/png": "[encoded data removed]",
      "text/plain": [
       "<Figure size 432x288 with 1 Axes>"
      ]
     },
     "metadata": {},
     "output_type": "display_data"
    }
   ],
   "source": [
    "import seaborn as sns\n",
    "\n",
    "df['Method'].value_counts()\n",
    "sns.countplot(x = 'Method', data=df)"
   ]
  },
  {
   "cell_type": "code",
   "execution_count": 29,
   "id": "d8a4be40",
   "metadata": {},
   "outputs": [
    {
     "name": "stdout",
     "output_type": "stream",
     "text": [
      "Timestamp\n",
      "2017-11-07 23:00:00                                               [/, /]\n",
      "2017-11-08 00:00:00                             [/login.php, /login.php]\n",
      "2017-11-08 01:00:00                             [/login.php, /login.php]\n",
      "2017-11-08 03:00:00                             [/login.php, /login.php]\n",
      "2017-11-08 05:00:00                             [/login.php, /login.php]\n",
      "                                             ...                        \n",
      "2018-03-01 13:00:00    [/login.php, /img/ruet.png, /login.php, /login...\n",
      "2018-03-02 04:00:00    [/login.php, /login.php, /login.php, /login.ph...\n",
      "2018-03-02 05:00:00                                          [/sign.php]\n",
      "2018-03-02 06:00:00    [/login.php, /login.php, /img/ruet.png, /sign....\n",
      "2018-03-02 15:00:00    [/login.php, /home.php, /archive.php, /compile...\n",
      "Name: Request, Length: 483, dtype: object\n"
     ]
    }
   ],
   "source": [
    "\n",
    "Requests=df2.groupby(['Timestamp'])['Request'].apply(list)\n",
    "print(Requests)"
   ]
  },
  {
   "cell_type": "code",
   "execution_count": 30,
   "id": "6185ef43",
   "metadata": {},
   "outputs": [],
   "source": [
    "request_list=list(Requests)\n",
    "token={}\n",
    "counter=0\n",
    "for i in range(0,len(request_list)):\n",
    "    for j in range(0,len(request_list[i])):\n",
    "            if request_list[i][j] in token:\n",
    "                request_list[i][j] = token[request_list[i][j]]\n",
    "            else:\n",
    "                token[request_list[i][j]]=str(counter)\n",
    "                request_list[i][j] = str(counter)\n",
    "                counter+=1"
   ]
  },
  {
   "cell_type": "code",
   "execution_count": 37,
   "id": "b63f21bb",
   "metadata": {},
   "outputs": [],
   "source": [
    "from apyori import apriori\n",
    "\n",
    "results = list(apriori(request_list, min_support=0.05))"
   ]
  },
  {
   "cell_type": "code",
   "execution_count": 38,
   "id": "6e59383a",
   "metadata": {},
   "outputs": [
    {
     "name": "stdout",
     "output_type": "stream",
     "text": [
      "                                      Left_side  ...      Lift\n",
      "1343    /archive.php , /contest.php , /home.php  ...  8.781818\n",
      "1324              /description.php , /login.php  ...  8.781818\n",
      "723               /description.php , /login.php  ...  8.537879\n",
      "728                 /archive.php , /contest.php  ...  8.537879\n",
      "1339   /archive.php , /login.php , /contest.php  ...  8.523529\n",
      "1328               /description.php , /home.php  ...  8.523529\n",
      "1333                /archive.php , /contest.php  ...  8.490234\n",
      "1334  /description.php , /login.php , /home.php  ...  8.490234\n",
      "743             /contestproblem.php , /home.php  ...  8.473684\n",
      "738         /contestsubmission.php , /login.php  ...  8.473684\n",
      "1178                /archive.php , /contest.php  ...  8.286765\n",
      "1173               /description.php , /home.php  ...  8.286765\n",
      "873                   /details.php , /login.php  ...  8.214286\n",
      "878          /contestproblem.php , /contest.php  ...  8.214286\n",
      "740            /contestproblem.php , /login.php  ...  8.186441\n",
      "741          /contestsubmission.php , /home.php  ...  8.186441\n",
      "861                    /details.php , /home.php  ...  8.186441\n",
      "860            /contestproblem.php , /login.php  ...  8.186441\n",
      "870                                /details.php  ...  8.158784\n",
      "458                            /description.php  ...  8.158784\n",
      "\n",
      "[20 rows x 5 columns]\n"
     ]
    }
   ],
   "source": [
    "def find_key_by_value(input_dict, search_value):\n",
    "    final=[]\n",
    "    for i in search_value:\n",
    "        for key, value in input_dict.items():\n",
    "            if value == i:\n",
    "                final.append(key)   \n",
    "\n",
    "    return final\n",
    "\n",
    "\n",
    "\n",
    "def convert_apriori_results_to_pandas_df(results):\n",
    "    rules = []\n",
    "    for rule_set in results:\n",
    "        for rule in rule_set.ordered_statistics:\n",
    "            # items_base = left side of rules, items_add = right side\n",
    "            # support, confidence and lift for respective rules\n",
    "            rules.append([' , '.join(find_key_by_value(token,rule.items_base)), ' , '.join(find_key_by_value(token,rule.items_add)),\n",
    "            rule_set.support, rule.confidence, rule.lift])\n",
    "            # typecast it to pandas df\n",
    "    return pd.DataFrame(rules, columns=['Left_side', 'Right_side', 'Support',\n",
    "    'Confidence', 'Lift'])\n",
    "        \n",
    "result_df = convert_apriori_results_to_pandas_df(results)\n",
    "result_df = result_df.sort_values(by='Lift', ascending=False) \n",
    "print(result_df.head(20))\n"
   ]
  },
  {
   "cell_type": "code",
   "execution_count": null,
   "id": "0c53796b",
   "metadata": {},
   "outputs": [],
   "source": []
  }
 ],
 "metadata": {
  "kernelspec": {
   "display_name": "Python 3 (Spyder)",
   "language": "python3",
   "name": "python3"
  },
  "language_info": {
   "codemirror_mode": {
    "name": "ipython",
    "version": 3
   },
   "file_extension": ".py",
   "mimetype": "text/x-python",
   "name": "python",
   "nbconvert_exporter": "python",
   "pygments_lexer": "ipython3",
   "version": "3.10.9"
  }
 },
 "nbformat": 4,
 "nbformat_minor": 5
}
